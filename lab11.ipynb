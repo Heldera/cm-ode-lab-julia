{
 "cells": [
  {
   "cell_type": "markdown",
   "metadata": {},
   "source": [
    "# Решение ОДУ на Julia для робототехники\n",
    "\n",
    "Сегодня будем исследовать робототехнику с позиции ОДУ. ОДУ там буквально везде: это и управление (см. системное управление, управляющее воздействие), и расчёт динамики робота (то, как ему двигаться), и моделирование работы робота в физической среде. Использование корректных методов решения ОДУ очень важно в этих задачах для обеспечения тех или иных целей (время реакции, точность реакции или адекватность модели, например.) *тут может быть [видео](https://vkvideo.ru/video-49770594_171647393) (или его [оригинал](https://www.youtube.com/watch?v=E2evC2xTNWg)), где робо-рука крушит половину кухни, пока готовит завтрак*\n",
    "\n",
    "Для этой задачи мы попробуем использовать язык программирования Julia, который содержит большое количество пакетов для математики и анализа данных. Особенно богата у Julia библиотека для решения дифференциальных уравнений DifferentialEquations. Среди её зависимостей мы можем заметить уже знакомые нам, как например Sundials.\n",
    "\n",
    "На практике для робототехники используют разные инструменты. В разных случаях популярны и С/С++, и Python, и Matlab и другие решения. Julia также является весьма современным и актуальным подходом. В конце ноутбука можно будет найти ссылки на некоторые дополнительные ресурсы по этой теме.\n",
    "\n",
    "\n",
    "\n",
    "**Learning Objectives:**\n",
    "- Learn how to set up a robotics simulation using ODE models in Julia.\n",
    "- Experiment with different ODE solvers (e.g., Tsit5, Rodas5, CVODE_BDF) and see how they differ in handling non‑stiff and stiff systems.\n",
    "- Understand the impact of solver choice on accuracy, stability, and execution time.\n",
    "\n",
    "This notebook is designed to run on Binder\n",
    "[Binder Link](https://mybinder.org/)."
   ]
  },
  {
   "cell_type": "code",
   "execution_count": null,
   "metadata": {},
   "outputs": [],
   "source": [
    "##############################\n",
    "# Package Setup\n",
    "##############################\n",
    "\n",
    "using Pkg\n",
    "# If running for the first time on Binder, uncomment the following lines:\n",
    "# Pkg.add(\"DifferentialEquations\")\n",
    "# Pkg.add(\"Plots\")\n",
    "# Pkg.add(\"MeshCat\")\n",
    "# Pkg.add(\"RigidBodyDynamics\")\n",
    "# Pkg.add(\"IJulia\")\n",
    "# Pkg.add(\"ModelingToolkit\")\n",
    "\n",
    "# Pkg.resolve()\n",
    "\n",
    "# using IJulia\n",
    "# notebook()\n",
    "\n",
    "using DifferentialEquations\n",
    "using Plots\n",
    "using Sundials\n",
    "\n",
    "# Set a default plot theme\n",
    "default(; lw=2, size=(600,400))"
   ]
  },
  {
   "cell_type": "markdown",
   "metadata": {},
   "source": [
    "## 1. Робототехника\n",
    "\n",
    "В робототехнике распространенной простой моделью является **двойной интегратор**, который может представлять линейное движение робота. Вектор состояния определяется как:\n",
    "\n",
    "- **u[1]:** Позиция (position)\n",
    "- **u[2]:** Скорость (velocity)\n",
    "\n",
    "Динамика задаётся следующим уравнением:\n",
    "\n",
    "- $$ \\frac{d}{dt} (\\text{position}) = \\text{velocity} $$\n",
    "- $$ \\frac{d}{dt} (\\text{velocity}) = -k \\times (\\text{position}) - c \\times (\\text{velocity}) $$\n",
    "\n",
    "где $k$ - коэффициент упругости, а $c$ - коэффициент затухания. Эта простая модель позволит нам исследовать поведение как нежестких, так и жестких материалов, регулируя параметры."
   ]
  },
  {
   "cell_type": "code",
   "execution_count": null,
   "metadata": {},
   "outputs": [],
   "source": [
    "##############################\n",
    "# Define the ODE Model\n",
    "##############################\n",
    "\n",
    "# The robot dynamics function for the double integrator\n",
    "function robot_dynamics!(du, u, p, t)\n",
    "    # u[1] = position, u[2] = velocity\n",
    "    du[1] = u[2]                           # d(position)/dt = velocity\n",
    "    du[2] = -p[1]*u[1] - p[2]*u[2]           # acceleration = -k*position - c*velocity\n",
    "end\n",
    "\n",
    "# Initial conditions: robot starts at position 1.0 with zero initial velocity\n",
    "u0 = [1.0, 0.0]\n",
    "\n",
    "# Time span for the simulation: 0 to 10 seconds\n",
    "tspan = (0.0, 10.0)\n",
    "\n",
    "# Parameters: p = [spring constant, damping coefficient]\n",
    "p = [2.0, 0.5]\n",
    "\n",
    "# Create the ODE problem\n",
    "prob = ODEProblem(robot_dynamics!, u0, tspan, p)\n"
   ]
  },
  {
   "cell_type": "markdown",
   "metadata": {},
   "source": [
    "## 2. Решение задачи Коши (ОДУ) разными методами\n",
    "\n",
    "Библиотека DifferentialEquations.jl предлагает широкий выбор реализаций методов решения дифференциальных уравнений. Давайте рассмотрим как можно решить уравнение для двойного инегратора при помощи этих методов и сравним результаты. Можно свериться с [Документацией DifferentialEquations.jl](https://docs.sciml.ai/DiffEqDocs/stable/solvers/ode_solve/) для дополнительных деталей.\n",
    "\n",
    "Для начала будем использовать следующие методы:\n",
    "\n",
    "- **Tsit5**: не жёсткий, явный метод Рунге-Кутты\n",
    "- **Rodas5**: неявный метод, который потенциально подходит для жёстких систем\n",
    "- **CVODE_BDF**: метод из библиотеки Sundials (часто используется для больших жёстких систем)\n",
    "\n",
    "Не стесняйтесь настраивать параметры (например, увеличивать коэффициент затухания), чтобы увидеть, как методы реагируют на более жёсткую динамику."
   ]
  },
  {
   "cell_type": "code",
   "execution_count": null,
   "metadata": {},
   "outputs": [],
   "source": [
    "##############################\n",
    "# Solve using Tsit5 (non-stiff)\n",
    "##############################\n",
    "\n",
    "sol_Tsit5 = solve(prob, Tsit5(), reltol=1e-8, abstol=1e-8)\n",
    "\n",
    "plot(sol_Tsit5.t, sol_Tsit5[1,:], label=\"Tsit5\", xlabel=\"Time (s)\", ylabel=\"Position\", \n",
    "     title=\"Double Integrator Position vs Time\", lw=2)\n",
    "display(current())\n"
   ]
  },
  {
   "cell_type": "code",
   "execution_count": null,
   "metadata": {},
   "outputs": [],
   "source": [
    "##############################\n",
    "# Solve using Rodas5 (for stiff systems)\n",
    "##############################\n",
    "\n",
    "sol_Rodas5 = solve(prob, Rodas5(), reltol=1e-8, abstol=1e-8)\n",
    "\n",
    "# Plotting on the same figure for comparison\n",
    "plot(sol_Tsit5.t, sol_Tsit5[1,:], label=\"Tsit5\", xlabel=\"Time (s)\", ylabel=\"Position\", \n",
    "     title=\"Double Integrator: Position Comparison\", lw=2)\n",
    "plot!(sol_Rodas5.t, sol_Rodas5[1,:], label=\"Rodas5\", lw=2)\n",
    "display(current())\n"
   ]
  },
  {
   "cell_type": "code",
   "execution_count": null,
   "metadata": {},
   "outputs": [],
   "source": [
    "##############################\n",
    "# Solve using CVODE_BDF (from Sundials, for stiff problems)\n",
    "##############################\n",
    "\n",
    "sol_CVODE = solve(prob, CVODE_BDF(), reltol=1e-8, abstol=1e-8)\n",
    "\n",
    "# Add the solution from CVODE_BDF on our comparison plot\n",
    "plot!(sol_CVODE.t, sol_CVODE[1,:], label=\"CVODE_BDF\", linestyle=:dash, lw=2)\n",
    "display(current())\n"
   ]
  },
  {
   "cell_type": "markdown",
   "metadata": {},
   "source": [
    "## 3. Экспериментирование и анализ\n",
    "\n",
    "Теперь ваша очередь экспериментировать! Попробуйте выполнить следующие задания:\n",
    "\n",
    "1. **Добавление решателя:** Добавьте метод Эйлера из библиотеки DifferentialEquations.jl аналогично остальным методам.\n",
    "\n",
    "2. **Измените параметры:** Увеличьте коэффициент затухания (или коэффициент упругости), чтобы повысить жёсткость модели. Обратите внимание на то, как меняются решения и как некоторые решатели справляются с жёсткой динамикой лучше, чем другие.\n",
    "\n",
    "3. **Погрешности метода:** Измените относительную (`reltol`) и абсолютную (`abstol`) погрешность при вызове метода `solve()`. Следите за изменениями точности и времени вычислений.\n",
    "\n",
    "4. **Анализ времени работы:** Используйте макрос \"@time\", чтобы измерить, сколько времени занимает каждое решение. Например:\n",
    "\n",
    "   ```julia\n",
    "   @time solve(prob, Tsit5(), reltol=1e-8, abstol=1e-8)\n",
    "   @time solve(prob, Rodas5(), reltol=1e-8, abstol=1e-8)\n",
    "   ```\n",
    "\n",
    "5. **Рассуждение:** Ответьте на следующие вопросы своими словами в ячейке Markdown ниже:\n",
    "   - Как выбор решателя влияет на решение для нежёстких и жёстких режимов?\n",
    "   - Какие компромиссы вы наблюдаете с точки зрения времени вычислений, точности и стабильности?\n",
    "\n",
    "Можно свериться с [Документацией DifferentialEquations.jl](https://docs.sciml.ai/DiffEqDocs/stable/solvers/ode_solve/) для дополнительных деталей.\n"
   ]
  },
  {
   "cell_type": "markdown",
   "metadata": {},
   "source": [
    "*ВАШ КОММЕНТАРИЙ ЗДЕСЬ*"
   ]
  },
  {
   "cell_type": "markdown",
   "metadata": {},
   "source": [
    "---"
   ]
  },
  {
   "cell_type": "markdown",
   "metadata": {},
   "source": [
    "# Дальше дополнительные задания и заключительный вопрос в самом конце."
   ]
  },
  {
   "cell_type": "markdown",
   "metadata": {},
   "source": [
    "## 4. Визуализация с MeshCat\n",
    "При работе с роботами можно удобно визуализировать работу при помощи MeshCat (на сколько я поняла, к сожалению не получится использовать его с Binder, только локально). Но Вы можете попробовать её поднять на Binder, либо локально. "
   ]
  },
  {
   "cell_type": "code",
   "execution_count": null,
   "metadata": {},
   "outputs": [],
   "source": [
    "using MeshCat\n",
    "vis = Visualizer()\n",
    "\n",
    "open(vis)\n",
    "setobject!(vis, HyperSphere(Point(0.0, 0.0, 0.0), 0.5))"
   ]
  },
  {
   "cell_type": "markdown",
   "metadata": {},
   "source": [
    "## 5. Примеры TORA.jl для 2-DoF (двойного маятника)\n",
    "\n",
    "DoF - степень свободы\n",
    "\n",
    "В этом примере мы используем пакет **TORA.jl** для построения и моделирования модели двойного маятника.\n",
    "\n",
    "Пример взят [отсюда](https://juliarobotics.org/RigidBodyDynamics.jl/dev/generated/1.%20Quickstart%20-%20double%20pendulum/1.%20Quickstart%20-%20double%20pendulum/#)"
   ]
  },
  {
   "cell_type": "code",
   "execution_count": null,
   "metadata": {},
   "outputs": [],
   "source": [
    "using RigidBodyDynamics\n",
    "using SVector\n",
    "using Plots\n",
    "\n",
    "g = -9.81 # gravitational acceleration in z-direction\n",
    "world = RigidBody{Float64}(\"world\")\n",
    "doublependulum = Mechanism(world; gravity = SVector(0, 0, g))\n",
    "\n",
    "axis = SVector(0., 1., 0.) # joint axis\n",
    "I_1 = 0.333 # moment of inertia about joint axis\n",
    "c_1 = -0.5 # center of mass location with respect to joint axis\n",
    "m_1 = 1. # mass\n",
    "frame1 = CartesianFrame3D(\"upper_link\") # the reference frame in which the spatial inertia will be expressed\n",
    "inertia1 = SpatialInertia(frame1,\n",
    "    moment=I_1 * axis * axis',\n",
    "    com=SVector(0, 0, c_1),\n",
    "    mass=m_1)\n",
    "\n",
    "srcdir = dirname(pathof(RigidBodyDynamics))\n",
    "urdf = joinpath(srcdir, \"..\", \"test\", \"urdf\", \"Acrobot.urdf\")\n",
    "parse_urdf(urdf)\n",
    "\n",
    "\n",
    "state = MechanismState(doublependulum)\n",
    "\n",
    "set_configuration!(state, shoulder, 0.3)\n",
    "set_configuration!(state, elbow, 0.4)\n",
    "set_velocity!(state, shoulder, 1.)\n",
    "set_velocity!(state, elbow, 2.);\n",
    "\n",
    "q = configuration(state)\n",
    "v = velocity(state)\n",
    "\n",
    "transform(state, Point3D(frame_after(elbow), zero(SVector{3})),\n",
    "    default_frame(world))\n",
    "\n",
    "transform_to_root(state, frame_after(elbow))\n",
    "\n",
    "relative_transform(state, frame_after(elbow), frame_after(shoulder))\n",
    "\n",
    "center_of_mass(state)\n",
    "\n",
    "mass_matrix(state)\n",
    "\n",
    "v̇ = similar(velocity(state)) # the joint acceleration vector, i.e., the time derivative of the joint velocity vector v\n",
    "v̇[shoulder][1] = 1\n",
    "v̇[elbow][1] = 2\n",
    "inverse_dynamics(state, v̇)\n",
    "\n",
    "ts, qs, vs = simulate(state, 5., Δt = 1e-3);\n"
   ]
  },
  {
   "cell_type": "markdown",
   "metadata": {},
   "source": [
    "## 6. Свободные осциляции для 1-DoF и 2-DoF"
   ]
  },
  {
   "cell_type": "code",
   "execution_count": null,
   "metadata": {},
   "outputs": [],
   "source": [
    "##############################\n",
    "# TORA 1-DoF Model\n",
    "##############################\n",
    "\n",
    "# The ODE for a 1-DoF TORA system.\n",
    "# Equation: θ'' + d θ' + c * sin(θ) = input, (we set input = 0 for free oscillation)\n",
    "    function tora1dof!(du, u, p, t)\n",
    "        d, c, input = p  # damping, stiffness, and external input torque\n",
    "        theta, omega = u\n",
    "        du[1] = omega\n",
    "        du[2] = -d * omega - c * sin(theta) + input\n",
    "    end\n",
    "    \n",
    "    # Initial condition: small initial displacement, starting from rest.\n",
    "    u0_tora1 = [0.2, 0.0]\n",
    "    # Time span: simulate over 30 seconds.\n",
    "    tspan_tora1 = (0.0, 30.0)\n",
    "    # Parameters: [damping, stiffness, input]. Set input = 0 for free oscillation.\n",
    "    p_tora1 = [0.1, 3.0, 0.0]\n",
    "    \n",
    "    # Define and solve the ODE problem\n",
    "    prob_tora1 = ODEProblem(tora1dof!, u0_tora1, tspan_tora1, p_tora1)\n",
    "    sol_tora1 = solve(prob_tora1, Tsit5(), reltol=1e-8, abstol=1e-8)\n",
    "    \n",
    "    # Visualize the results:\n",
    "    # (a) θ vs. Time\n",
    "    plt1 = plot(sol_tora1.t, sol_tora1[1,:],\n",
    "                label=\"θ (angle)\",\n",
    "                xlabel=\"Time (s)\",\n",
    "                ylabel=\"θ\",\n",
    "                title=\"TORA 1-DoF: Angular Displacement vs Time\",\n",
    "                lw=2)\n",
    "    \n",
    "    # (b) Phase Portrait: θ vs. ω\n",
    "    plt2 = plot(sol_tora1[1,:], sol_tora1[2,:],\n",
    "                label=\"Phase Portrait\",\n",
    "                xlabel=\"θ (angle)\",\n",
    "                ylabel=\"ω (angular velocity)\",\n",
    "                title=\"TORA 1-DoF: Phase Portrait\",\n",
    "                lw=2,\n",
    "                legend=:bottomright)\n",
    "    \n",
    "    display(plt1)\n",
    "    display(plt2)"
   ]
  },
  {
   "cell_type": "code",
   "execution_count": null,
   "metadata": {},
   "outputs": [],
   "source": [
    "##############################\n",
    "# TORA 2-DoF Model\n",
    "##############################\n",
    "\n",
    "# The ODE for a 2-DoF coupled TORA system.\n",
    "# Equations:\n",
    "# θ₁'' + d₁ θ₁' + c₁ sin(θ₁) + k*(θ₁ - θ₂) = input₁,\n",
    "# θ₂'' + d₂ θ₂' + c₂ sin(θ₂) - k*(θ₁ - θ₂) = input₂.\n",
    "function tora2dof!(du, u, p, t)\n",
    "    # Unpack parameters:\n",
    "    d1, c1, d2, c2, k, input1, input2 = p\n",
    "    # Unpack state variables:\n",
    "    theta1, theta2, omega1, omega2 = u\n",
    "    du[1] = omega1\n",
    "    du[2] = omega2\n",
    "    du[3] = -d1 * omega1 - c1 * sin(theta1) + k*(theta2 - theta1) + input1\n",
    "    du[4] = -d2 * omega2 - c2 * sin(theta2) - k*(theta2 - theta1) + input2\n",
    "end\n",
    "\n",
    "# Initial condition: small displacements and zero initial velocities.\n",
    "u0_tora2 = [0.2, 0.25, 0.0, 0.0]\n",
    "# Time span: simulate over 40 seconds.\n",
    "tspan_tora2 = (0.0, 40.0)\n",
    "# Parameters: [d1, c1, d2, c2, coupling stiffness k, input1, input2] (inputs are 0 for free oscillation).\n",
    "p_tora2 = [0.1, 3.0, 0.1, 3.0, 2.0, 0.0, 0.0]\n",
    "\n",
    "# Define and solve the ODE problem\n",
    "prob_tora2 = ODEProblem(tora2dof!, u0_tora2, tspan_tora2, p_tora2)\n",
    "sol_tora2 = solve(prob_tora2, Tsit5(), reltol=1e-8, abstol=1e-8)\n",
    "\n",
    "# Visualize the results:\n",
    "# (a) Angular displacement vs. Time for both angles\n",
    "plt3 = plot(sol_tora2.t, sol_tora2[1,:],\n",
    "            label=\"θ₁\",\n",
    "            xlabel=\"Time (s)\",\n",
    "            ylabel=\"θ\",\n",
    "            title=\"TORA 2-DoF: Angular Displacement vs Time\",\n",
    "            lw=2)\n",
    "plot!(sol_tora2.t, sol_tora2[2,:], label=\"θ₂\", lw=2)\n",
    "\n",
    "# (b) Phase portrait for the first oscillator (θ₁ vs. ω₁)\n",
    "plt4 = plot(sol_tora2[1,:], sol_tora2[3,:],\n",
    "            label=\"Phase Portrait θ₁ vs ω₁\",\n",
    "            xlabel=\"θ₁\",\n",
    "            ylabel=\"ω₁\",\n",
    "            title=\"TORA 2-DoF: Phase Portrait for Oscillator 1\",\n",
    "            lw=2,\n",
    "            legend=:bottomright)\n",
    "\n",
    "display(plt3)\n",
    "display(plt4)"
   ]
  },
  {
   "cell_type": "markdown",
   "metadata": {},
   "source": [
    "## 6. Вопросы для обсуждения\n",
    "\n",
    "1. Как различаются результаты у разных решателей?\n",
    "2. Что происходит, когда вы уменьшаете или увеличиваете временной шаг для RK4?\n",
    "3. Какой решатель кажется наиболее стабильным и точным для этого робота?\n",
    "4. Попробуйте изменить начальное условие или длительность. Имеет ли большее значение выбор решателя для более длительных симуляций?\n",
    "\n"
   ]
  },
  {
   "cell_type": "markdown",
   "metadata": {},
   "source": [
    "## 7. Бонус: Добавьте небольшое демпфирование (затухание) или измените параметры (необязательно)\n",
    "\n",
    "Этот раздел можно расширить, чтобы изменить динамику (например, включить трение)., или интегрируйте с контроллером PD для стабилизации робота.\n",
    "\n",
    "Вы можете добавить демпфирование, изменив правую часть ODE вручную,\n",
    "или изменив параметры в определении механизма, если это поддерживается.\n",
    "Пример:"
   ]
  },
  {
   "cell_type": "code",
   "execution_count": null,
   "metadata": {},
   "outputs": [],
   "source": [
    "# function damped_dynamics!(du, u, p, t)\n",
    "#     original_dynamics!(du, u, p, t)  # call base dynamics\n",
    "#     damping_coeff = 0.1\n",
    "#     du[2] -= damping_coeff * u[2]   # damping on θ̇₁\n",
    "#     du[4] -= damping_coeff * u[4]   # damping on θ̇₂\n",
    "# end\n",
    "\n",
    "# prob_damped = ODEProblem(damped_dynamics!, u0, tspan)\n",
    "# sol_damped = solve(prob_damped)"
   ]
  },
  {
   "cell_type": "code",
   "execution_count": null,
   "metadata": {},
   "outputs": [],
   "source": [
    "# --- PD Control Stub Example ---\n",
    "# Давайте установим его в нужное положение с помощью PD-контроллера.\n",
    "\n",
    "# desired_angles = [0.0, 0.0]  # desired θ₁ and θ₂\n",
    "# Kp = 10.0\n",
    "# Kd = 2.0\n",
    "\n",
    "# function controlled_dynamics!(du, u, p, t)\n",
    "#     θ = u[1:2]\n",
    "#     θ_dot = u[3:4]\n",
    "#     τ = -Kp .* (θ .- desired_angles) - Kd .* θ_dot\n",
    "#     # Apply τ to dynamics (requires manual dynamics or input support)\n",
    "#     # Replace this with robot equations with control input if using extended model\n",
    "#     original_dynamics!(du, u, p, t)\n",
    "#     du[2] += τ[1]  # pseudo torque injection\n",
    "#     du[4] += τ[2]\n",
    "# end\n",
    "\n",
    "# prob_controlled = ODEProblem(controlled_dynamics!, u0, tspan)\n",
    "# sol_controlled = solve(prob_controlled)\n",
    "\n",
    "# plot(sol_controlled, vars=(0, 1), title=\"θ₁ with PD control\", label=\"θ₁\")"
   ]
  },
  {
   "cell_type": "markdown",
   "metadata": {},
   "source": [
    "## 8. Дальнейшее изучение\n",
    "\n",
    "Когда вы освоитесь с этой моделью, рассмотрите возможность расширения ноутбука за счет:\n",
    "\n",
    "- Моделирования многозвенной роботизированной руки, где вектор состояния включает в себя углы сочленений и угловые скорости.\n",
    "- Включение управления с обратной связью (например, с помощью PID‑регулятора) в ОДУ для моделирования динамики замкнутого цикла.\n",
    "- Изучение обработки событий (например, когда робот достигает цели или сталкивается с объектом) с использованием обратных вызовов в DifferentialEquations.jl.\n",
    "\n",
    "## Дополнительные материалы\n",
    "1. [Julia](https://julialang.org/) как язык программирования.\n",
    "2. [Видео](https://www.youtube.com/watch?v=5uF3VqgjiVE) про использование Julia и библиотеки TORA.jl для оптимизации траектории движения робота.\n",
    "3. [Видео](https://www.youtube.com/watch?v=_--fIr5ConA), рассказывающее про Juliet&Romeo - новый язык программирования на основе Julia для программирования роботов от компаний Cognibotics & Estun Automation.\n",
    "\n",
    "4. [Туториал]() по TORA.jl."
   ]
  },
  {
   "cell_type": "markdown",
   "metadata": {},
   "source": [
    "---"
   ]
  },
  {
   "cell_type": "markdown",
   "metadata": {},
   "source": [
    "## Заключение\n",
    "\n",
    "На этом практическом занятии вы узнали, как настроить модель робототехники в Julia, решить ее с помощью нескольких решателей ODE и проанализировать влияние выбора решателя на поведение системы. Понимание этих различий важно при масштабировании задач для более сложных приложений робототехники.\n",
    "\n",
    "Приятного программирования и изучения!\n",
    "\n",
    "Что нового и интересного Вы узнали именно для себя? Что Вам было интересно?\n",
    "\n",
    "*ВАШ КОММЕНТАРИЙ ЗДЕСЬ*"
   ]
  }
 ],
 "metadata": {
  "kernelspec": {
   "display_name": "Julia 1.11.5",
   "language": "julia",
   "name": "julia-1.11"
  },
  "language_info": {
   "file_extension": ".jl",
   "mimetype": "application/julia",
   "name": "julia",
   "version": "1.11.5"
  }
 },
 "nbformat": 4,
 "nbformat_minor": 2
}
